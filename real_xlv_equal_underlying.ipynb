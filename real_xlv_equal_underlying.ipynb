{
 "cells": [
  {
   "cell_type": "markdown",
   "id": "piano-giant",
   "metadata": {},
   "source": [
    "## Performance of equal-weight XLV buy and hold (same amount of money in every stock) over 22-year period"
   ]
  },
  {
   "cell_type": "code",
   "execution_count": 1,
   "id": "automated-horse",
   "metadata": {},
   "outputs": [],
   "source": [
    "from preprocess import prep_all_movavg, prep_movavg_mod\n",
    "from tradesim_sma_daily import getprice, getsma, sma_target, get_next_date, one_cycle_buy_sell, simulate, sim_buy_hold_eq\n",
    "from tradesim_sma import getprice, getsma, sma_target, get_next_date, one_cycle_buy_sell, simulate, simulate_xlv\n",
    "import pandas as pd\n",
    "import yfinance as yf\n",
    "import matplotlib.pyplot as plt\n",
    "import numpy as np\n",
    "import math"
   ]
  },
  {
   "cell_type": "code",
   "execution_count": 2,
   "id": "approximate-reset",
   "metadata": {},
   "outputs": [],
   "source": [
    "df_xlvtick = pd.read_csv('XLV.csv')\n",
    "tick_list = df_xlvtick['Ticker'].tolist()\n",
    "df_dict = prep_movavg_mod(tick_list)"
   ]
  },
  {
   "cell_type": "code",
   "execution_count": 3,
   "id": "drawn-asbestos",
   "metadata": {},
   "outputs": [],
   "source": [
    "start = pd.to_datetime('12/22/98')\n",
    "end = pd.to_datetime('01/06/21')"
   ]
  },
  {
   "cell_type": "code",
   "execution_count": 4,
   "id": "strange-renaissance",
   "metadata": {},
   "outputs": [],
   "source": [
    "funds = 1000000"
   ]
  },
  {
   "cell_type": "code",
   "execution_count": 5,
   "id": "designed-hardwood",
   "metadata": {},
   "outputs": [],
   "source": [
    "funds, current_val, fund_df = sim_buy_hold_eq(funds, df_dict, start, end)"
   ]
  },
  {
   "cell_type": "code",
   "execution_count": 58,
   "id": "dressed-permit",
   "metadata": {},
   "outputs": [
    {
     "data": {
      "image/png": "[encoded data removed]",
      "text/plain": [
       "<Figure size 576x360 with 1 Axes>"
      ]
     },
     "metadata": {
      "needs_background": "light"
     },
     "output_type": "display_data"
    }
   ],
   "source": [
    "# full period plot (xlv but equal dollar investment in all underlying)\n",
    "fig, ax = plt.subplots(figsize=(8,5))\n",
    "ax.set_ylabel('Portfolio value (in $10MM)')\n",
    "ax.set_xlabel('Year')\n",
    "ax.plot(fund_df['date'], fund_df['curr_fund'], label='XLV')\n",
    "ax.legend()\n",
    "ax.set_title('Return (XLV equal-weight) [1998-2021]')\n",
    "plt.savefig('XLV_equal_invest_22_Year_Return.png')"
   ]
  },
  {
   "cell_type": "code",
   "execution_count": 59,
   "id": "interpreted-giant",
   "metadata": {},
   "outputs": [],
   "source": [
    "fund_df_pct = fund_df.iloc[::252,:].set_index('date')['curr_fund'].pct_change().to_frame().dropna()"
   ]
  },
  {
   "cell_type": "code",
   "execution_count": 60,
   "id": "exempt-wonder",
   "metadata": {},
   "outputs": [],
   "source": [
    "#average risk-free rate of 1 year Tbill over 22 years\n",
    "risk_free = 0.0195\n",
    "fund_df_pct = fund_df_pct - risk_free"
   ]
  },
  {
   "cell_type": "code",
   "execution_count": 61,
   "id": "boring-affiliate",
   "metadata": {},
   "outputs": [
    {
     "data": {
      "text/plain": [
       "(curr_fund    0.167307\n",
       " dtype: float64,\n",
       " curr_fund    0.219454\n",
       " dtype: float64)"
      ]
     },
     "execution_count": 61,
     "metadata": {},
     "output_type": "execute_result"
    }
   ],
   "source": [
    "mean = fund_df_pct.mean()\n",
    "stdev = fund_df_pct.std()\n",
    "\n",
    "mean,stdev"
   ]
  },
  {
   "cell_type": "code",
   "execution_count": 62,
   "id": "under-philippines",
   "metadata": {},
   "outputs": [],
   "source": [
    "fund_sharpe = mean / stdev"
   ]
  },
  {
   "cell_type": "code",
   "execution_count": 63,
   "id": "surprising-continuity",
   "metadata": {},
   "outputs": [
    {
     "data": {
      "text/plain": [
       "curr_fund    0.762377\n",
       "dtype: float64"
      ]
     },
     "execution_count": 63,
     "metadata": {},
     "output_type": "execute_result"
    }
   ],
   "source": [
    "fund_sharpe"
   ]
  },
  {
   "cell_type": "code",
   "execution_count": 32,
   "id": "perceived-garlic",
   "metadata": {},
   "outputs": [
    {
     "data": {
      "text/html": [
       "<div>\n",
       "<style scoped>\n",
       "    .dataframe tbody tr th:only-of-type {\n",
       "        vertical-align: middle;\n",
       "    }\n",
       "\n",
       "    .dataframe tbody tr th {\n",
       "        vertical-align: top;\n",
       "    }\n",
       "\n",
       "    .dataframe thead th {\n",
       "        text-align: right;\n",
       "    }\n",
       "</style>\n",
       "<table border=\"1\" class=\"dataframe\">\n",
       "  <thead>\n",
       "    <tr style=\"text-align: right;\">\n",
       "      <th></th>\n",
       "      <th>date</th>\n",
       "      <th>curr_fund</th>\n",
       "      <th>num_stocks</th>\n",
       "    </tr>\n",
       "  </thead>\n",
       "  <tbody>\n",
       "    <tr>\n",
       "      <th>0</th>\n",
       "      <td>1998-12-22</td>\n",
       "      <td>1.000000e+06</td>\n",
       "      <td>49</td>\n",
       "    </tr>\n",
       "    <tr>\n",
       "      <th>1</th>\n",
       "      <td>1998-12-23</td>\n",
       "      <td>1.010958e+06</td>\n",
       "      <td>49</td>\n",
       "    </tr>\n",
       "    <tr>\n",
       "      <th>2</th>\n",
       "      <td>1998-12-24</td>\n",
       "      <td>1.013110e+06</td>\n",
       "      <td>49</td>\n",
       "    </tr>\n",
       "    <tr>\n",
       "      <th>3</th>\n",
       "      <td>1998-12-28</td>\n",
       "      <td>1.022077e+06</td>\n",
       "      <td>49</td>\n",
       "    </tr>\n",
       "    <tr>\n",
       "      <th>4</th>\n",
       "      <td>1998-12-29</td>\n",
       "      <td>1.028488e+06</td>\n",
       "      <td>49</td>\n",
       "    </tr>\n",
       "    <tr>\n",
       "      <th>...</th>\n",
       "      <td>...</td>\n",
       "      <td>...</td>\n",
       "      <td>...</td>\n",
       "    </tr>\n",
       "    <tr>\n",
       "      <th>5540</th>\n",
       "      <td>2020-12-29</td>\n",
       "      <td>2.925777e+07</td>\n",
       "      <td>63</td>\n",
       "    </tr>\n",
       "    <tr>\n",
       "      <th>5541</th>\n",
       "      <td>2020-12-30</td>\n",
       "      <td>2.925387e+07</td>\n",
       "      <td>63</td>\n",
       "    </tr>\n",
       "    <tr>\n",
       "      <th>5542</th>\n",
       "      <td>2020-12-31</td>\n",
       "      <td>2.956776e+07</td>\n",
       "      <td>63</td>\n",
       "    </tr>\n",
       "    <tr>\n",
       "      <th>5543</th>\n",
       "      <td>2021-01-04</td>\n",
       "      <td>2.936469e+07</td>\n",
       "      <td>63</td>\n",
       "    </tr>\n",
       "    <tr>\n",
       "      <th>5544</th>\n",
       "      <td>2021-01-05</td>\n",
       "      <td>2.965401e+07</td>\n",
       "      <td>63</td>\n",
       "    </tr>\n",
       "  </tbody>\n",
       "</table>\n",
       "<p>5545 rows × 3 columns</p>\n",
       "</div>"
      ],
      "text/plain": [
       "           date     curr_fund num_stocks\n",
       "0    1998-12-22  1.000000e+06         49\n",
       "1    1998-12-23  1.010958e+06         49\n",
       "2    1998-12-24  1.013110e+06         49\n",
       "3    1998-12-28  1.022077e+06         49\n",
       "4    1998-12-29  1.028488e+06         49\n",
       "...         ...           ...        ...\n",
       "5540 2020-12-29  2.925777e+07         63\n",
       "5541 2020-12-30  2.925387e+07         63\n",
       "5542 2020-12-31  2.956776e+07         63\n",
       "5543 2021-01-04  2.936469e+07         63\n",
       "5544 2021-01-05  2.965401e+07         63\n",
       "\n",
       "[5545 rows x 3 columns]"
      ]
     },
     "execution_count": 32,
     "metadata": {},
     "output_type": "execute_result"
    }
   ],
   "source": [
    "fund_df"
   ]
  },
  {
   "cell_type": "code",
   "execution_count": 36,
   "id": "distinct-mineral",
   "metadata": {},
   "outputs": [
    {
     "data": {
      "text/html": [
       "<div>\n",
       "<style scoped>\n",
       "    .dataframe tbody tr th:only-of-type {\n",
       "        vertical-align: middle;\n",
       "    }\n",
       "\n",
       "    .dataframe tbody tr th {\n",
       "        vertical-align: top;\n",
       "    }\n",
       "\n",
       "    .dataframe thead th {\n",
       "        text-align: right;\n",
       "    }\n",
       "</style>\n",
       "<table border=\"1\" class=\"dataframe\">\n",
       "  <thead>\n",
       "    <tr style=\"text-align: right;\">\n",
       "      <th></th>\n",
       "      <th>curr_fund</th>\n",
       "    </tr>\n",
       "    <tr>\n",
       "      <th>date</th>\n",
       "      <th></th>\n",
       "    </tr>\n",
       "  </thead>\n",
       "  <tbody>\n",
       "    <tr>\n",
       "      <th>1999-12-22</th>\n",
       "      <td>0.091340</td>\n",
       "    </tr>\n",
       "    <tr>\n",
       "      <th>2000-12-20</th>\n",
       "      <td>0.761653</td>\n",
       "    </tr>\n",
       "    <tr>\n",
       "      <th>2001-12-27</th>\n",
       "      <td>-0.019240</td>\n",
       "    </tr>\n",
       "    <tr>\n",
       "      <th>2002-12-27</th>\n",
       "      <td>-0.221625</td>\n",
       "    </tr>\n",
       "    <tr>\n",
       "      <th>2003-12-29</th>\n",
       "      <td>0.354879</td>\n",
       "    </tr>\n",
       "    <tr>\n",
       "      <th>2004-12-29</th>\n",
       "      <td>0.226680</td>\n",
       "    </tr>\n",
       "    <tr>\n",
       "      <th>2005-12-28</th>\n",
       "      <td>0.151004</td>\n",
       "    </tr>\n",
       "    <tr>\n",
       "      <th>2006-12-28</th>\n",
       "      <td>0.106799</td>\n",
       "    </tr>\n",
       "    <tr>\n",
       "      <th>2007-12-31</th>\n",
       "      <td>0.255663</td>\n",
       "    </tr>\n",
       "    <tr>\n",
       "      <th>2008-12-30</th>\n",
       "      <td>-0.319864</td>\n",
       "    </tr>\n",
       "    <tr>\n",
       "      <th>2009-12-30</th>\n",
       "      <td>0.327065</td>\n",
       "    </tr>\n",
       "    <tr>\n",
       "      <th>2010-12-30</th>\n",
       "      <td>0.131983</td>\n",
       "    </tr>\n",
       "    <tr>\n",
       "      <th>2011-12-29</th>\n",
       "      <td>0.156125</td>\n",
       "    </tr>\n",
       "    <tr>\n",
       "      <th>2013-01-02</th>\n",
       "      <td>0.249117</td>\n",
       "    </tr>\n",
       "    <tr>\n",
       "      <th>2014-01-02</th>\n",
       "      <td>0.306963</td>\n",
       "    </tr>\n",
       "    <tr>\n",
       "      <th>2015-01-02</th>\n",
       "      <td>0.289253</td>\n",
       "    </tr>\n",
       "    <tr>\n",
       "      <th>2016-01-04</th>\n",
       "      <td>0.045006</td>\n",
       "    </tr>\n",
       "    <tr>\n",
       "      <th>2017-01-03</th>\n",
       "      <td>-0.028008</td>\n",
       "    </tr>\n",
       "    <tr>\n",
       "      <th>2018-01-03</th>\n",
       "      <td>0.320039</td>\n",
       "    </tr>\n",
       "    <tr>\n",
       "      <th>2019-01-04</th>\n",
       "      <td>0.021920</td>\n",
       "    </tr>\n",
       "    <tr>\n",
       "      <th>2020-01-06</th>\n",
       "      <td>0.196689</td>\n",
       "    </tr>\n",
       "    <tr>\n",
       "      <th>2021-01-05</th>\n",
       "      <td>0.277307</td>\n",
       "    </tr>\n",
       "  </tbody>\n",
       "</table>\n",
       "</div>"
      ],
      "text/plain": [
       "            curr_fund\n",
       "date                 \n",
       "1999-12-22   0.091340\n",
       "2000-12-20   0.761653\n",
       "2001-12-27  -0.019240\n",
       "2002-12-27  -0.221625\n",
       "2003-12-29   0.354879\n",
       "2004-12-29   0.226680\n",
       "2005-12-28   0.151004\n",
       "2006-12-28   0.106799\n",
       "2007-12-31   0.255663\n",
       "2008-12-30  -0.319864\n",
       "2009-12-30   0.327065\n",
       "2010-12-30   0.131983\n",
       "2011-12-29   0.156125\n",
       "2013-01-02   0.249117\n",
       "2014-01-02   0.306963\n",
       "2015-01-02   0.289253\n",
       "2016-01-04   0.045006\n",
       "2017-01-03  -0.028008\n",
       "2018-01-03   0.320039\n",
       "2019-01-04   0.021920\n",
       "2020-01-06   0.196689\n",
       "2021-01-05   0.277307"
      ]
     },
     "execution_count": 36,
     "metadata": {},
     "output_type": "execute_result"
    }
   ],
   "source": [
    "fund_df_pct"
   ]
  },
  {
   "cell_type": "code",
   "execution_count": 37,
   "id": "timely-sharp",
   "metadata": {},
   "outputs": [],
   "source": [
    "funds = 1000000\n",
    "days = 21\n",
    "cycle = 264\n",
    "date = pd.to_datetime('12/22/98')"
   ]
  },
  {
   "cell_type": "code",
   "execution_count": 38,
   "id": "improved-breath",
   "metadata": {},
   "outputs": [],
   "source": [
    "xlv_df, xlv_funds = simulate_xlv(funds, date, days, cycle)"
   ]
  },
  {
   "cell_type": "code",
   "execution_count": 57,
   "id": "honey-arnold",
   "metadata": {},
   "outputs": [
    {
     "data": {
      "image/png": "[encoded data removed]",
      "text/plain": [
       "<Figure size 576x360 with 1 Axes>"
      ]
     },
     "metadata": {
      "needs_background": "light"
     },
     "output_type": "display_data"
    }
   ],
   "source": [
    "# full period plot (fund vs xlv)\n",
    "fig, ax = plt.subplots(figsize=(8,5))\n",
    "ax.set_ylabel('Portfolio value (in $10MM)')\n",
    "ax.set_xlabel('Year')\n",
    "ax.plot(xlv_df['date'], xlv_df['curr_fund'], label='XLV')\n",
    "ax.plot(xlv_df['date'], fund_df.iloc[::21,:]['curr_fund'], label='XLV equal-weight')\n",
    "ax.legend()\n",
    "ax.set_title('Return (XLV vs XLV equal-weight)[1998-2021]')\n",
    "plt.savefig('XLV_comp_22_Year_Return.png')"
   ]
  },
  {
   "cell_type": "code",
   "execution_count": 44,
   "id": "integrated-auction",
   "metadata": {},
   "outputs": [
    {
     "data": {
      "text/html": [
       "<div>\n",
       "<style scoped>\n",
       "    .dataframe tbody tr th:only-of-type {\n",
       "        vertical-align: middle;\n",
       "    }\n",
       "\n",
       "    .dataframe tbody tr th {\n",
       "        vertical-align: top;\n",
       "    }\n",
       "\n",
       "    .dataframe thead th {\n",
       "        text-align: right;\n",
       "    }\n",
       "</style>\n",
       "<table border=\"1\" class=\"dataframe\">\n",
       "  <thead>\n",
       "    <tr style=\"text-align: right;\">\n",
       "      <th></th>\n",
       "      <th>date</th>\n",
       "      <th>curr_fund</th>\n",
       "      <th>num_stocks</th>\n",
       "    </tr>\n",
       "  </thead>\n",
       "  <tbody>\n",
       "    <tr>\n",
       "      <th>0</th>\n",
       "      <td>1998-12-22</td>\n",
       "      <td>1000000</td>\n",
       "      <td>0</td>\n",
       "    </tr>\n",
       "    <tr>\n",
       "      <th>1</th>\n",
       "      <td>1999-01-25</td>\n",
       "      <td>1074175.824176</td>\n",
       "      <td>1</td>\n",
       "    </tr>\n",
       "    <tr>\n",
       "      <th>2</th>\n",
       "      <td>1999-02-24</td>\n",
       "      <td>1097252.747253</td>\n",
       "      <td>1</td>\n",
       "    </tr>\n",
       "    <tr>\n",
       "      <th>3</th>\n",
       "      <td>1999-03-25</td>\n",
       "      <td>1123626.373626</td>\n",
       "      <td>1</td>\n",
       "    </tr>\n",
       "    <tr>\n",
       "      <th>4</th>\n",
       "      <td>1999-04-26</td>\n",
       "      <td>1212087.912088</td>\n",
       "      <td>1</td>\n",
       "    </tr>\n",
       "    <tr>\n",
       "      <th>...</th>\n",
       "      <td>...</td>\n",
       "      <td>...</td>\n",
       "      <td>...</td>\n",
       "    </tr>\n",
       "    <tr>\n",
       "      <th>260</th>\n",
       "      <td>2020-09-03</td>\n",
       "      <td>5782417.582418</td>\n",
       "      <td>1</td>\n",
       "    </tr>\n",
       "    <tr>\n",
       "      <th>261</th>\n",
       "      <td>2020-10-05</td>\n",
       "      <td>5796703.296703</td>\n",
       "      <td>1</td>\n",
       "    </tr>\n",
       "    <tr>\n",
       "      <th>262</th>\n",
       "      <td>2020-11-03</td>\n",
       "      <td>5725824.175824</td>\n",
       "      <td>1</td>\n",
       "    </tr>\n",
       "    <tr>\n",
       "      <th>263</th>\n",
       "      <td>2020-12-03</td>\n",
       "      <td>6071978.021978</td>\n",
       "      <td>1</td>\n",
       "    </tr>\n",
       "    <tr>\n",
       "      <th>264</th>\n",
       "      <td>2021-01-05</td>\n",
       "      <td>6229670.32967</td>\n",
       "      <td>1</td>\n",
       "    </tr>\n",
       "  </tbody>\n",
       "</table>\n",
       "<p>265 rows × 3 columns</p>\n",
       "</div>"
      ],
      "text/plain": [
       "          date       curr_fund num_stocks\n",
       "0   1998-12-22         1000000          0\n",
       "1   1999-01-25  1074175.824176          1\n",
       "2   1999-02-24  1097252.747253          1\n",
       "3   1999-03-25  1123626.373626          1\n",
       "4   1999-04-26  1212087.912088          1\n",
       "..         ...             ...        ...\n",
       "260 2020-09-03  5782417.582418          1\n",
       "261 2020-10-05  5796703.296703          1\n",
       "262 2020-11-03  5725824.175824          1\n",
       "263 2020-12-03  6071978.021978          1\n",
       "264 2021-01-05   6229670.32967          1\n",
       "\n",
       "[265 rows x 3 columns]"
      ]
     },
     "execution_count": 44,
     "metadata": {},
     "output_type": "execute_result"
    }
   ],
   "source": [
    "xlv_df"
   ]
  },
  {
   "cell_type": "code",
   "execution_count": null,
   "id": "grave-terrorism",
   "metadata": {},
   "outputs": [],
   "source": []
  }
 ],
 "metadata": {
  "kernelspec": {
   "display_name": "Python 3",
   "language": "python",
   "name": "python3"
  },
  "language_info": {
   "codemirror_mode": {
    "name": "ipython",
    "version": 3
   },
   "file_extension": ".py",
   "mimetype": "text/x-python",
   "name": "python",
   "nbconvert_exporter": "python",
   "pygments_lexer": "ipython3",
   "version": "3.8.8"
  }
 },
 "nbformat": 4,
 "nbformat_minor": 5
}
