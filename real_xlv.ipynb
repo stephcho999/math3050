{
 "cells": [
  {
   "cell_type": "markdown",
   "id": "affecting-negotiation",
   "metadata": {},
   "source": [
    "## Performance of XLV over 22-year period"
   ]
  },
  {
   "cell_type": "code",
   "execution_count": 31,
   "id": "cardiac-effectiveness",
   "metadata": {},
   "outputs": [],
   "source": [
    "from preprocess import prep_all_movavg, prep_movavg_mod\n",
    "from tradesim_sma_daily import getprice, getsma, sma_target, get_next_date, one_cycle_buy_sell, simulate, sim_buy_hold_eq\n",
    "from tradesim_sma import getprice, getsma, sma_target, get_next_date, one_cycle_buy_sell, simulate, simulate_xlv\n",
    "import pandas as pd\n",
    "import yfinance as yf\n",
    "import matplotlib.pyplot as plt\n",
    "import numpy as np\n",
    "import math"
   ]
  },
  {
   "cell_type": "code",
   "execution_count": 2,
   "id": "least-robinson",
   "metadata": {},
   "outputs": [],
   "source": [
    "funds = 1000000\n",
    "days = 21\n",
    "cycle = 264\n",
    "date = pd.to_datetime('12/22/98')\n"
   ]
  },
  {
   "cell_type": "code",
   "execution_count": 3,
   "id": "legislative-inflation",
   "metadata": {},
   "outputs": [],
   "source": [
    "xlv_df, xlv_funds = simulate_xlv(funds, date, days, cycle)"
   ]
  },
  {
   "cell_type": "code",
   "execution_count": 47,
   "id": "enhanced-machinery",
   "metadata": {},
   "outputs": [
    {
     "data": {
      "image/png": "[encoded data removed]",
      "text/plain": [
       "<Figure size 576x360 with 1 Axes>"
      ]
     },
     "metadata": {
      "needs_background": "light"
     },
     "output_type": "display_data"
    }
   ],
   "source": [
    "# full period plot (xlv)\n",
    "fig, ax = plt.subplots(figsize=(8,5))\n",
    "ax.set_ylabel('Portfolio value (in $MM)')\n",
    "ax.set_xlabel('Year')\n",
    "ax.plot(xlv_df['date'], xlv_df['curr_fund'], label='XLV')\n",
    "ax.legend()\n",
    "ax.set_title('Return (XLV) [1998-2021]')\n",
    "plt.savefig('XLV_22_Year_Return.png')"
   ]
  },
  {
   "cell_type": "code",
   "execution_count": 40,
   "id": "celtic-cambridge",
   "metadata": {},
   "outputs": [],
   "source": [
    "xlv_df_pct = xlv_df.iloc[::12,:].set_index('date')['curr_fund'].pct_change().to_frame().dropna()"
   ]
  },
  {
   "cell_type": "code",
   "execution_count": 41,
   "id": "entitled-agriculture",
   "metadata": {},
   "outputs": [],
   "source": [
    "xlv_df_pct = xlv_df_pct - 0.0195"
   ]
  },
  {
   "cell_type": "code",
   "execution_count": 42,
   "id": "behind-albany",
   "metadata": {},
   "outputs": [],
   "source": [
    "mean = xlv_df_pct.mean()\n",
    "stdev = xlv_df_pct.std()"
   ]
  },
  {
   "cell_type": "code",
   "execution_count": 43,
   "id": "dramatic-preparation",
   "metadata": {},
   "outputs": [
    {
     "data": {
      "text/plain": [
       "(curr_fund    0.075628\n",
       " dtype: float64,\n",
       " curr_fund    0.13575\n",
       " dtype: float64)"
      ]
     },
     "execution_count": 43,
     "metadata": {},
     "output_type": "execute_result"
    }
   ],
   "source": [
    "mean, stdev"
   ]
  },
  {
   "cell_type": "code",
   "execution_count": 38,
   "id": "aquatic-paper",
   "metadata": {},
   "outputs": [],
   "source": [
    "\n",
    "xlv_sharpe = mean / stdev"
   ]
  },
  {
   "cell_type": "code",
   "execution_count": 39,
   "id": "still-experiment",
   "metadata": {},
   "outputs": [
    {
     "data": {
      "text/plain": [
       "curr_fund    0.557113\n",
       "dtype: float64"
      ]
     },
     "execution_count": 39,
     "metadata": {},
     "output_type": "execute_result"
    }
   ],
   "source": [
    "xlv_sharpe"
   ]
  },
  {
   "cell_type": "code",
   "execution_count": 33,
   "id": "three-shannon",
   "metadata": {},
   "outputs": [
    {
     "data": {
      "text/html": [
       "<div>\n",
       "<style scoped>\n",
       "    .dataframe tbody tr th:only-of-type {\n",
       "        vertical-align: middle;\n",
       "    }\n",
       "\n",
       "    .dataframe tbody tr th {\n",
       "        vertical-align: top;\n",
       "    }\n",
       "\n",
       "    .dataframe thead th {\n",
       "        text-align: right;\n",
       "    }\n",
       "</style>\n",
       "<table border=\"1\" class=\"dataframe\">\n",
       "  <thead>\n",
       "    <tr style=\"text-align: right;\">\n",
       "      <th></th>\n",
       "      <th>date</th>\n",
       "      <th>curr_fund</th>\n",
       "      <th>num_stocks</th>\n",
       "    </tr>\n",
       "  </thead>\n",
       "  <tbody>\n",
       "    <tr>\n",
       "      <th>0</th>\n",
       "      <td>1998-12-22</td>\n",
       "      <td>1000000</td>\n",
       "      <td>0</td>\n",
       "    </tr>\n",
       "    <tr>\n",
       "      <th>1</th>\n",
       "      <td>1999-01-25</td>\n",
       "      <td>1074175.824176</td>\n",
       "      <td>1</td>\n",
       "    </tr>\n",
       "    <tr>\n",
       "      <th>2</th>\n",
       "      <td>1999-02-24</td>\n",
       "      <td>1097252.747253</td>\n",
       "      <td>1</td>\n",
       "    </tr>\n",
       "    <tr>\n",
       "      <th>3</th>\n",
       "      <td>1999-03-25</td>\n",
       "      <td>1123626.373626</td>\n",
       "      <td>1</td>\n",
       "    </tr>\n",
       "    <tr>\n",
       "      <th>4</th>\n",
       "      <td>1999-04-26</td>\n",
       "      <td>1212087.912088</td>\n",
       "      <td>1</td>\n",
       "    </tr>\n",
       "    <tr>\n",
       "      <th>...</th>\n",
       "      <td>...</td>\n",
       "      <td>...</td>\n",
       "      <td>...</td>\n",
       "    </tr>\n",
       "    <tr>\n",
       "      <th>260</th>\n",
       "      <td>2020-09-03</td>\n",
       "      <td>5782417.582418</td>\n",
       "      <td>1</td>\n",
       "    </tr>\n",
       "    <tr>\n",
       "      <th>261</th>\n",
       "      <td>2020-10-05</td>\n",
       "      <td>5796703.296703</td>\n",
       "      <td>1</td>\n",
       "    </tr>\n",
       "    <tr>\n",
       "      <th>262</th>\n",
       "      <td>2020-11-03</td>\n",
       "      <td>5725824.175824</td>\n",
       "      <td>1</td>\n",
       "    </tr>\n",
       "    <tr>\n",
       "      <th>263</th>\n",
       "      <td>2020-12-03</td>\n",
       "      <td>6071978.021978</td>\n",
       "      <td>1</td>\n",
       "    </tr>\n",
       "    <tr>\n",
       "      <th>264</th>\n",
       "      <td>2021-01-05</td>\n",
       "      <td>6229670.32967</td>\n",
       "      <td>1</td>\n",
       "    </tr>\n",
       "  </tbody>\n",
       "</table>\n",
       "<p>265 rows × 3 columns</p>\n",
       "</div>"
      ],
      "text/plain": [
       "          date       curr_fund num_stocks\n",
       "0   1998-12-22         1000000          0\n",
       "1   1999-01-25  1074175.824176          1\n",
       "2   1999-02-24  1097252.747253          1\n",
       "3   1999-03-25  1123626.373626          1\n",
       "4   1999-04-26  1212087.912088          1\n",
       "..         ...             ...        ...\n",
       "260 2020-09-03  5782417.582418          1\n",
       "261 2020-10-05  5796703.296703          1\n",
       "262 2020-11-03  5725824.175824          1\n",
       "263 2020-12-03  6071978.021978          1\n",
       "264 2021-01-05   6229670.32967          1\n",
       "\n",
       "[265 rows x 3 columns]"
      ]
     },
     "execution_count": 33,
     "metadata": {},
     "output_type": "execute_result"
    }
   ],
   "source": [
    "xlv_df"
   ]
  },
  {
   "cell_type": "code",
   "execution_count": null,
   "id": "played-floating",
   "metadata": {},
   "outputs": [],
   "source": []
  }
 ],
 "metadata": {
  "kernelspec": {
   "display_name": "Python 3",
   "language": "python",
   "name": "python3"
  },
  "language_info": {
   "codemirror_mode": {
    "name": "ipython",
    "version": 3
   },
   "file_extension": ".py",
   "mimetype": "text/x-python",
   "name": "python",
   "nbconvert_exporter": "python",
   "pygments_lexer": "ipython3",
   "version": "3.8.8"
  }
 },
 "nbformat": 4,
 "nbformat_minor": 5
}
