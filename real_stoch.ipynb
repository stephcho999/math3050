{
 "cells": [
  {
   "cell_type": "code",
   "execution_count": 1,
   "id": "anonymous-generic",
   "metadata": {},
   "outputs": [],
   "source": [
    "import yfinance as yf\n",
    "import pandas as pd\n",
    "import numpy as np\n",
    "from preprocess import prep_all_stoch, prep_stoch_mod, prep_movavg_mod\n",
    "from tradesim_stoch import simulate as sim_alt\n",
    "from tradesim_stoch_daily import simulate\n",
    "from tradesim_sma_daily import sim_buy_hold_eq\n",
    "import matplotlib.pyplot as plt"
   ]
  },
  {
   "cell_type": "code",
   "execution_count": 2,
   "id": "defensive-bumper",
   "metadata": {},
   "outputs": [],
   "source": [
    "df_xlvtick = pd.read_csv('XLV.csv')\n",
    "tick_list = df_xlvtick['Ticker'].tolist()\n",
    "df_dict = prep_stoch_mod(tick_list)\n",
    "start = pd.to_datetime('12/22/98')\n",
    "end = pd.to_datetime('01/06/21')\n",
    "funds = 1000000\n",
    "df_dict2 = prep_movavg_mod(tick_list)"
   ]
  },
  {
   "cell_type": "code",
   "execution_count": 5,
   "id": "executed-diary",
   "metadata": {},
   "outputs": [],
   "source": [
    "stoch_funds, stoch_current_val, stoch_fund_df = simulate(funds, df_dict, start, end)"
   ]
  },
  {
   "cell_type": "code",
   "execution_count": 6,
   "id": "consolidated-allowance",
   "metadata": {},
   "outputs": [],
   "source": [
    "funds, current_val, fund_df = sim_buy_hold_eq(funds, df_dict2, start, end)"
   ]
  },
  {
   "cell_type": "code",
   "execution_count": 23,
   "id": "biological-sunglasses",
   "metadata": {},
   "outputs": [
    {
     "data": {
      "text/plain": [
       "3854109.279144536"
      ]
     },
     "execution_count": 23,
     "metadata": {},
     "output_type": "execute_result"
    }
   ],
   "source": [
    "stoch_funds"
   ]
  },
  {
   "cell_type": "markdown",
   "id": "clear-ability",
   "metadata": {},
   "source": [
    "## Performance of Alternate MACD strategies (monthly, 2-month, 6-month)"
   ]
  },
  {
   "cell_type": "code",
   "execution_count": 40,
   "id": "formal-separate",
   "metadata": {},
   "outputs": [],
   "source": [
    "# monthly adjustment strategy\n",
    "funds = 1000000\n",
    "days = 21\n",
    "cycle = 264\n",
    "df_list = prep_all_stoch(tick_list)"
   ]
  },
  {
   "cell_type": "code",
   "execution_count": 41,
   "id": "promotional-precipitation",
   "metadata": {},
   "outputs": [],
   "source": [
    "stoch_1_fund_df, stoch_1_final_funds = sim_alt(funds, df_list, start, days, cycle)"
   ]
  },
  {
   "cell_type": "code",
   "execution_count": 42,
   "id": "affecting-monaco",
   "metadata": {},
   "outputs": [
    {
     "data": {
      "text/html": [
       "<div>\n",
       "<style scoped>\n",
       "    .dataframe tbody tr th:only-of-type {\n",
       "        vertical-align: middle;\n",
       "    }\n",
       "\n",
       "    .dataframe tbody tr th {\n",
       "        vertical-align: top;\n",
       "    }\n",
       "\n",
       "    .dataframe thead th {\n",
       "        text-align: right;\n",
       "    }\n",
       "</style>\n",
       "<table border=\"1\" class=\"dataframe\">\n",
       "  <thead>\n",
       "    <tr style=\"text-align: right;\">\n",
       "      <th></th>\n",
       "      <th>date</th>\n",
       "      <th>curr_fund</th>\n",
       "      <th>num_stocks</th>\n",
       "    </tr>\n",
       "  </thead>\n",
       "  <tbody>\n",
       "    <tr>\n",
       "      <th>0</th>\n",
       "      <td>1998-12-22</td>\n",
       "      <td>1000000</td>\n",
       "      <td>0</td>\n",
       "    </tr>\n",
       "    <tr>\n",
       "      <th>1</th>\n",
       "      <td>1999-01-25</td>\n",
       "      <td>1328282.828283</td>\n",
       "      <td>1</td>\n",
       "    </tr>\n",
       "    <tr>\n",
       "      <th>2</th>\n",
       "      <td>1999-02-24</td>\n",
       "      <td>1374501.097215</td>\n",
       "      <td>3</td>\n",
       "    </tr>\n",
       "    <tr>\n",
       "      <th>3</th>\n",
       "      <td>1999-03-25</td>\n",
       "      <td>1560505.155078</td>\n",
       "      <td>2</td>\n",
       "    </tr>\n",
       "    <tr>\n",
       "      <th>4</th>\n",
       "      <td>1999-04-26</td>\n",
       "      <td>1608236.488215</td>\n",
       "      <td>13</td>\n",
       "    </tr>\n",
       "    <tr>\n",
       "      <th>...</th>\n",
       "      <td>...</td>\n",
       "      <td>...</td>\n",
       "      <td>...</td>\n",
       "    </tr>\n",
       "    <tr>\n",
       "      <th>260</th>\n",
       "      <td>2020-09-03</td>\n",
       "      <td>77711376.097965</td>\n",
       "      <td>3</td>\n",
       "    </tr>\n",
       "    <tr>\n",
       "      <th>261</th>\n",
       "      <td>2020-10-05</td>\n",
       "      <td>67923591.15757</td>\n",
       "      <td>1</td>\n",
       "    </tr>\n",
       "    <tr>\n",
       "      <th>262</th>\n",
       "      <td>2020-11-03</td>\n",
       "      <td>66885285.059754</td>\n",
       "      <td>3</td>\n",
       "    </tr>\n",
       "    <tr>\n",
       "      <th>263</th>\n",
       "      <td>2020-12-03</td>\n",
       "      <td>71492642.360908</td>\n",
       "      <td>9</td>\n",
       "    </tr>\n",
       "    <tr>\n",
       "      <th>264</th>\n",
       "      <td>2021-01-05</td>\n",
       "      <td>76087792.481109</td>\n",
       "      <td>1</td>\n",
       "    </tr>\n",
       "  </tbody>\n",
       "</table>\n",
       "<p>265 rows × 3 columns</p>\n",
       "</div>"
      ],
      "text/plain": [
       "          date        curr_fund num_stocks\n",
       "0   1998-12-22          1000000          0\n",
       "1   1999-01-25   1328282.828283          1\n",
       "2   1999-02-24   1374501.097215          3\n",
       "3   1999-03-25   1560505.155078          2\n",
       "4   1999-04-26   1608236.488215         13\n",
       "..         ...              ...        ...\n",
       "260 2020-09-03  77711376.097965          3\n",
       "261 2020-10-05   67923591.15757          1\n",
       "262 2020-11-03  66885285.059754          3\n",
       "263 2020-12-03  71492642.360908          9\n",
       "264 2021-01-05  76087792.481109          1\n",
       "\n",
       "[265 rows x 3 columns]"
      ]
     },
     "execution_count": 42,
     "metadata": {},
     "output_type": "execute_result"
    }
   ],
   "source": [
    "stoch_1_fund_df"
   ]
  },
  {
   "cell_type": "code",
   "execution_count": 43,
   "id": "junior-sucking",
   "metadata": {},
   "outputs": [],
   "source": [
    "# bimonthly adjustment strategy\n",
    "funds = 1000000\n",
    "days = 42\n",
    "cycle = 132"
   ]
  },
  {
   "cell_type": "code",
   "execution_count": 44,
   "id": "located-variance",
   "metadata": {},
   "outputs": [],
   "source": [
    "stoch_2_fund_df, stoch_2_final_funds = sim_alt(funds, df_list, start, days, cycle)"
   ]
  },
  {
   "cell_type": "code",
   "execution_count": 45,
   "id": "located-congo",
   "metadata": {},
   "outputs": [],
   "source": [
    "# biannual adjustment strategy\n",
    "funds = 1000000\n",
    "days = 126\n",
    "cycle = 44"
   ]
  },
  {
   "cell_type": "code",
   "execution_count": 46,
   "id": "answering-blink",
   "metadata": {},
   "outputs": [],
   "source": [
    "stoch_6_fund_df, stoch_6_final_funds = sim_alt(funds, df_list, start, days, cycle)"
   ]
  },
  {
   "cell_type": "code",
   "execution_count": 47,
   "id": "listed-addiction",
   "metadata": {},
   "outputs": [],
   "source": [
    "#annual adjustment strategy\n",
    "funds = 1000000\n",
    "days = 252\n",
    "cycle = 22"
   ]
  },
  {
   "cell_type": "code",
   "execution_count": 48,
   "id": "linear-bacteria",
   "metadata": {},
   "outputs": [],
   "source": [
    "stoch_12_fund_df, stoch_12_final_funds = sim_alt(funds, df_list, start, days, cycle)"
   ]
  },
  {
   "cell_type": "markdown",
   "id": "portable-daughter",
   "metadata": {},
   "source": [
    "## Period return graph"
   ]
  },
  {
   "cell_type": "code",
   "execution_count": 49,
   "id": "proper-witch",
   "metadata": {},
   "outputs": [
    {
     "data": {
      "image/png": "[encoded data removed]",
      "text/plain": [
       "<Figure size 648x360 with 1 Axes>"
      ]
     },
     "metadata": {
      "needs_background": "light"
     },
     "output_type": "display_data"
    }
   ],
   "source": [
    "# full period plot (fund vs xlv)\n",
    "fig, ax = plt.subplots(figsize=(9,5))\n",
    "ax.set_ylabel('Portfolio value (in $10MM)')\n",
    "ax.set_xlabel('Year')\n",
    "ax.plot(fund_df['date'], fund_df['curr_fund'], label='XLV equal-weight')\n",
    "ax.plot(stoch_1_fund_df['date'], stoch_1_fund_df['curr_fund'], label='Stochastic Oscillator (Monthly)')\n",
    "ax.plot(stoch_2_fund_df['date'], stoch_2_fund_df['curr_fund'], label='Stochastic Oscillator (Bi-monthly)')\n",
    "ax.plot(stoch_6_fund_df['date'], stoch_6_fund_df['curr_fund'], label='Stochastic Oscillator (Bi-annual)')\n",
    "#ax.plot(stoch_12_fund_df['date'], stoch_12_fund_df['curr_fund'], label='Stochastic Oscillator (Annual)')\n",
    "ax.legend()\n",
    "ax.set_title('Return (Stochastic Oscillator Funds vs XLV equal-weight)[1998-2021]')\n",
    "plt.savefig('stoch_all_22_Year_Return.png')"
   ]
  },
  {
   "cell_type": "code",
   "execution_count": 19,
   "id": "elementary-timer",
   "metadata": {},
   "outputs": [
    {
     "data": {
      "image/png": "[encoded data removed]",
      "text/plain": [
       "<Figure size 648x360 with 1 Axes>"
      ]
     },
     "metadata": {
      "needs_background": "light"
     },
     "output_type": "display_data"
    }
   ],
   "source": [
    "# log scale full period plot (fund vs xlv)\n",
    "fig, ax = plt.subplots(figsize=(9,5))\n",
    "ax.set_yscale('log')\n",
    "ax.set_ylabel('Portfolio value')\n",
    "ax.set_xlabel('Year')\n",
    "ax.plot(fund_df['date'], fund_df['curr_fund'], label='XLV equal-weight')\n",
    "ax.plot(stoch_1_fund_df['date'], stoch_1_fund_df['curr_fund'], label='Stochastic Oscillator (Monthly)')\n",
    "ax.plot(stoch_2_fund_df['date'], stoch_2_fund_df['curr_fund'], label='Stochastic Oscillator (Bi-monthly)')\n",
    "ax.plot(stoch_6_fund_df['date'], stoch_6_fund_df['curr_fund'], label='Stochastic Oscillator (Bi-annual)')\n",
    "ax.legend()\n",
    "ax.set_title('Log-Scale Return (Stochastic Oscillator Funds vs XLV equal-weight)[1998-2021]')\n",
    "plt.savefig('stoch_log_22_Year_Return.png')"
   ]
  },
  {
   "cell_type": "markdown",
   "id": "gorgeous-canyon",
   "metadata": {},
   "source": [
    "### Sharpe Ratios for MACD strategies"
   ]
  },
  {
   "cell_type": "code",
   "execution_count": 25,
   "id": "different-hepatitis",
   "metadata": {},
   "outputs": [],
   "source": [
    "stoch_df_pct = stoch_fund_df.iloc[::252,:].set_index('date')['curr_fund'].pct_change().to_frame().dropna()"
   ]
  },
  {
   "cell_type": "code",
   "execution_count": 26,
   "id": "democratic-validity",
   "metadata": {},
   "outputs": [],
   "source": [
    "#average risk-free rate of 1 year Tbill over 22 years\n",
    "risk_free = 0.0195\n",
    "stoch_df_pct = stoch_df_pct - risk_free"
   ]
  },
  {
   "cell_type": "code",
   "execution_count": 27,
   "id": "false-motorcycle",
   "metadata": {},
   "outputs": [
    {
     "data": {
      "text/plain": [
       "(curr_fund    0.045371\n",
       " dtype: float64,\n",
       " curr_fund    0.062196\n",
       " dtype: float64)"
      ]
     },
     "execution_count": 27,
     "metadata": {},
     "output_type": "execute_result"
    }
   ],
   "source": [
    "mean = stoch_df_pct.mean()\n",
    "stdev = stoch_df_pct.std()\n",
    "\n",
    "mean,stdev"
   ]
  },
  {
   "cell_type": "code",
   "execution_count": 28,
   "id": "surrounded-dubai",
   "metadata": {},
   "outputs": [
    {
     "data": {
      "text/plain": [
       "curr_fund    0.729487\n",
       "dtype: float64"
      ]
     },
     "execution_count": 28,
     "metadata": {},
     "output_type": "execute_result"
    }
   ],
   "source": [
    "stoch_sharpe = mean / stdev\n",
    "stoch_sharpe"
   ]
  },
  {
   "cell_type": "code",
   "execution_count": 29,
   "id": "collective-netscape",
   "metadata": {},
   "outputs": [
    {
     "data": {
      "text/plain": [
       "(curr_fund    0.224292\n",
       " dtype: float64,\n",
       " curr_fund    0.267464\n",
       " dtype: float64)"
      ]
     },
     "execution_count": 29,
     "metadata": {},
     "output_type": "execute_result"
    }
   ],
   "source": [
    "#1month\n",
    "stoch_1_df_pct = stoch_1_fund_df.iloc[::12,:].set_index('date')['curr_fund'].pct_change().to_frame().dropna()\n",
    "\n",
    "#average risk-free rate of 1 year Tbill over 22 years\n",
    "risk_free = 0.0195\n",
    "stoch_1_df_pct = stoch_1_df_pct - risk_free\n",
    "\n",
    "mean = stoch_1_df_pct.mean()\n",
    "stdev = stoch_1_df_pct.std()\n",
    "\n",
    "mean,stdev"
   ]
  },
  {
   "cell_type": "code",
   "execution_count": 30,
   "id": "nervous-devices",
   "metadata": {},
   "outputs": [
    {
     "data": {
      "text/plain": [
       "curr_fund    0.838589\n",
       "dtype: float64"
      ]
     },
     "execution_count": 30,
     "metadata": {},
     "output_type": "execute_result"
    }
   ],
   "source": [
    "stoch_1_sharpe = mean / stdev\n",
    "stoch_1_sharpe"
   ]
  },
  {
   "cell_type": "code",
   "execution_count": 31,
   "id": "latest-whale",
   "metadata": {},
   "outputs": [
    {
     "data": {
      "text/plain": [
       "(curr_fund    0.143341\n",
       " dtype: float64,\n",
       " curr_fund    0.229257\n",
       " dtype: float64)"
      ]
     },
     "execution_count": 31,
     "metadata": {},
     "output_type": "execute_result"
    }
   ],
   "source": [
    "#2month\n",
    "stoch_2_df_pct = stoch_2_fund_df.iloc[::6,:].set_index('date')['curr_fund'].pct_change().to_frame().dropna()\n",
    "\n",
    "#average risk-free rate of 1 year Tbill over 22 years\n",
    "risk_free = 0.0195\n",
    "stoch_2_df_pct = stoch_2_df_pct - risk_free\n",
    "\n",
    "mean = stoch_2_df_pct.mean()\n",
    "stdev = stoch_2_df_pct.std()\n",
    "\n",
    "mean,stdev"
   ]
  },
  {
   "cell_type": "code",
   "execution_count": 32,
   "id": "medical-shell",
   "metadata": {},
   "outputs": [
    {
     "data": {
      "text/plain": [
       "curr_fund    0.62524\n",
       "dtype: float64"
      ]
     },
     "execution_count": 32,
     "metadata": {},
     "output_type": "execute_result"
    }
   ],
   "source": [
    "stoch_2_sharpe = mean / stdev\n",
    "stoch_2_sharpe"
   ]
  },
  {
   "cell_type": "code",
   "execution_count": 33,
   "id": "random-struggle",
   "metadata": {},
   "outputs": [
    {
     "data": {
      "text/plain": [
       "(curr_fund    0.135076\n",
       " dtype: float64,\n",
       " curr_fund    0.276669\n",
       " dtype: float64)"
      ]
     },
     "execution_count": 33,
     "metadata": {},
     "output_type": "execute_result"
    }
   ],
   "source": [
    "#6month\n",
    "stoch_6_df_pct = stoch_6_fund_df.iloc[::2,:].set_index('date')['curr_fund'].pct_change().to_frame().dropna()\n",
    "\n",
    "#average risk-free rate of 1 year Tbill over 22 years\n",
    "risk_free = 0.0195\n",
    "stoch_6_df_pct = stoch_6_df_pct - risk_free\n",
    "\n",
    "mean = stoch_6_df_pct.mean()\n",
    "stdev = stoch_6_df_pct.std()\n",
    "\n",
    "mean,stdev"
   ]
  },
  {
   "cell_type": "code",
   "execution_count": 34,
   "id": "better-monkey",
   "metadata": {},
   "outputs": [
    {
     "data": {
      "text/plain": [
       "curr_fund    0.488221\n",
       "dtype: float64"
      ]
     },
     "execution_count": 34,
     "metadata": {},
     "output_type": "execute_result"
    }
   ],
   "source": [
    "stoch_6_sharpe = mean / stdev\n",
    "stoch_6_sharpe"
   ]
  },
  {
   "cell_type": "code",
   "execution_count": 35,
   "id": "immediate-packing",
   "metadata": {},
   "outputs": [
    {
     "data": {
      "text/plain": [
       "(curr_fund    0.194565\n",
       " dtype: float64,\n",
       " curr_fund    0.411193\n",
       " dtype: float64)"
      ]
     },
     "execution_count": 35,
     "metadata": {},
     "output_type": "execute_result"
    }
   ],
   "source": [
    "#12month\n",
    "stoch_12_df_pct = stoch_12_fund_df.set_index('date')['curr_fund'].pct_change().to_frame().dropna()\n",
    "\n",
    "#average risk-free rate of 1 year Tbill over 22 years\n",
    "risk_free = 0.0195\n",
    "stoch_12_df_pct = stoch_12_df_pct - risk_free\n",
    "\n",
    "mean = stoch_12_df_pct.mean()\n",
    "stdev = stoch_12_df_pct.std()\n",
    "\n",
    "mean,stdev"
   ]
  },
  {
   "cell_type": "code",
   "execution_count": 36,
   "id": "stunning-newman",
   "metadata": {},
   "outputs": [
    {
     "data": {
      "text/plain": [
       "curr_fund    0.473172\n",
       "dtype: float64"
      ]
     },
     "execution_count": 36,
     "metadata": {},
     "output_type": "execute_result"
    }
   ],
   "source": [
    "stoch_12_sharpe = mean / stdev\n",
    "stoch_12_sharpe"
   ]
  },
  {
   "cell_type": "markdown",
   "id": "developed-cement",
   "metadata": {},
   "source": [
    "## Relationship between number of stocks in portfolio and return"
   ]
  },
  {
   "cell_type": "code",
   "execution_count": 38,
   "id": "middle-click",
   "metadata": {},
   "outputs": [
    {
     "data": {
      "image/png": "[encoded data removed]",
      "text/plain": [
       "<Figure size 576x360 with 1 Axes>"
      ]
     },
     "metadata": {
      "needs_background": "light"
     },
     "output_type": "display_data"
    }
   ],
   "source": [
    "fig, ax = plt.subplots(figsize=(8,5))\n",
    "stoch_1_pct_monthly = stoch_1_fund_df.set_index('date')['curr_fund'].pct_change().to_frame().dropna()\n",
    "ax.set_ylabel('Monthly return')\n",
    "ax.set_xlabel('Number of stocks in portfolio')\n",
    "ax.scatter(stoch_1_fund_df.iloc[1:]['num_stocks'], stoch_1_pct_monthly['curr_fund'])\n",
    "ax.set_title('Return vs Number of Stocks in Portfolio')\n",
    "plt.savefig('Stoch_1_Return_vs_num_stock.png')"
   ]
  },
  {
   "cell_type": "code",
   "execution_count": null,
   "id": "entire-turning",
   "metadata": {},
   "outputs": [],
   "source": []
  }
 ],
 "metadata": {
  "kernelspec": {
   "display_name": "Python 3",
   "language": "python",
   "name": "python3"
  },
  "language_info": {
   "codemirror_mode": {
    "name": "ipython",
    "version": 3
   },
   "file_extension": ".py",
   "mimetype": "text/x-python",
   "name": "python",
   "nbconvert_exporter": "python",
   "pygments_lexer": "ipython3",
   "version": "3.8.8"
  }
 },
 "nbformat": 4,
 "nbformat_minor": 5
}
