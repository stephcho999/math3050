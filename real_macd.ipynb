{
 "cells": [
  {
   "cell_type": "code",
   "execution_count": 31,
   "id": "moved-compression",
   "metadata": {},
   "outputs": [],
   "source": [
    "import yfinance as yf\n",
    "import pandas as pd\n",
    "import numpy as np\n",
    "from preprocess import prep_all_macd, prep_macd_mod, prep_movavg_mod\n",
    "from tradesim_macd import simulate as sim_alt\n",
    "from tradesim_macd_daily import simulate\n",
    "from tradesim_sma_daily import sim_buy_hold_eq\n",
    "import matplotlib.pyplot as plt"
   ]
  },
  {
   "cell_type": "code",
   "execution_count": 27,
   "id": "similar-washer",
   "metadata": {},
   "outputs": [],
   "source": [
    "df_xlvtick = pd.read_csv('XLV.csv')\n",
    "tick_list = df_xlvtick['Ticker'].tolist()\n",
    "df_dict = prep_macd_mod(tick_list)\n",
    "start = pd.to_datetime('12/22/98')\n",
    "end = pd.to_datetime('01/06/21')\n",
    "funds = 1000000\n",
    "df_dict2 = prep_movavg_mod(tick_list)"
   ]
  },
  {
   "cell_type": "code",
   "execution_count": 6,
   "id": "announced-stock",
   "metadata": {},
   "outputs": [],
   "source": [
    "macd_funds, macd_current_val, macd_fund_df = simulate(funds, df_dict, start, end)"
   ]
  },
  {
   "cell_type": "code",
   "execution_count": 7,
   "id": "cathedral-bullet",
   "metadata": {},
   "outputs": [
    {
     "data": {
      "text/plain": [
       "5179900.301859014"
      ]
     },
     "execution_count": 7,
     "metadata": {},
     "output_type": "execute_result"
    }
   ],
   "source": [
    "macd_fund_df"
   ]
  },
  {
   "cell_type": "code",
   "execution_count": 32,
   "id": "typical-brook",
   "metadata": {},
   "outputs": [],
   "source": [
    "funds, current_val, fund_df = sim_buy_hold_eq(funds, df_dict2, start, end)"
   ]
  },
  {
   "cell_type": "code",
   "execution_count": 34,
   "id": "skilled-administration",
   "metadata": {},
   "outputs": [
    {
     "data": {
      "text/plain": [
       "29654033.10477054"
      ]
     },
     "execution_count": 34,
     "metadata": {},
     "output_type": "execute_result"
    }
   ],
   "source": [
    "current_val"
   ]
  },
  {
   "cell_type": "code",
   "execution_count": null,
   "id": "accompanied-ministry",
   "metadata": {},
   "outputs": [],
   "source": []
  },
  {
   "cell_type": "markdown",
   "id": "postal-angel",
   "metadata": {},
   "source": [
    "## Performance of Alternate MACD strategies (monthly, 2-month, 6-month)"
   ]
  },
  {
   "cell_type": "code",
   "execution_count": 18,
   "id": "fuzzy-budget",
   "metadata": {},
   "outputs": [],
   "source": [
    "# monthly adjustment strategy\n",
    "funds = 1000000\n",
    "days = 21\n",
    "cycle = 264\n",
    "df_list = prep_all_macd(tick_list)"
   ]
  },
  {
   "cell_type": "code",
   "execution_count": 19,
   "id": "regional-eating",
   "metadata": {},
   "outputs": [],
   "source": [
    "macd_1_fund_df, macd_1_final_funds = sim_alt(funds, df_list, start, days, cycle)"
   ]
  },
  {
   "cell_type": "code",
   "execution_count": 20,
   "id": "split-mortality",
   "metadata": {},
   "outputs": [],
   "source": [
    "# bimonthly adjustment strategy\n",
    "funds = 1000000\n",
    "days = 42\n",
    "cycle = 132"
   ]
  },
  {
   "cell_type": "code",
   "execution_count": 21,
   "id": "active-nickel",
   "metadata": {},
   "outputs": [],
   "source": [
    "macd_2_fund_df, macd_2_final_funds = sim_alt(funds, df_list, start, days, cycle)"
   ]
  },
  {
   "cell_type": "code",
   "execution_count": 22,
   "id": "foster-pilot",
   "metadata": {},
   "outputs": [
    {
     "data": {
      "text/html": [
       "<div>\n",
       "<style scoped>\n",
       "    .dataframe tbody tr th:only-of-type {\n",
       "        vertical-align: middle;\n",
       "    }\n",
       "\n",
       "    .dataframe tbody tr th {\n",
       "        vertical-align: top;\n",
       "    }\n",
       "\n",
       "    .dataframe thead th {\n",
       "        text-align: right;\n",
       "    }\n",
       "</style>\n",
       "<table border=\"1\" class=\"dataframe\">\n",
       "  <thead>\n",
       "    <tr style=\"text-align: right;\">\n",
       "      <th></th>\n",
       "      <th>date</th>\n",
       "      <th>curr_fund</th>\n",
       "      <th>num_stocks</th>\n",
       "    </tr>\n",
       "  </thead>\n",
       "  <tbody>\n",
       "    <tr>\n",
       "      <th>0</th>\n",
       "      <td>1999-02-24</td>\n",
       "      <td>9.664783e+05</td>\n",
       "      <td>17</td>\n",
       "    </tr>\n",
       "    <tr>\n",
       "      <th>1</th>\n",
       "      <td>1999-04-26</td>\n",
       "      <td>1.054894e+06</td>\n",
       "      <td>24</td>\n",
       "    </tr>\n",
       "    <tr>\n",
       "      <th>2</th>\n",
       "      <td>1999-06-24</td>\n",
       "      <td>1.064928e+06</td>\n",
       "      <td>36</td>\n",
       "    </tr>\n",
       "    <tr>\n",
       "      <th>3</th>\n",
       "      <td>1999-08-24</td>\n",
       "      <td>1.215766e+06</td>\n",
       "      <td>19</td>\n",
       "    </tr>\n",
       "    <tr>\n",
       "      <th>4</th>\n",
       "      <td>1999-10-22</td>\n",
       "      <td>1.076110e+06</td>\n",
       "      <td>35</td>\n",
       "    </tr>\n",
       "    <tr>\n",
       "      <th>...</th>\n",
       "      <td>...</td>\n",
       "      <td>...</td>\n",
       "      <td>...</td>\n",
       "    </tr>\n",
       "    <tr>\n",
       "      <th>127</th>\n",
       "      <td>2020-05-06</td>\n",
       "      <td>3.030464e+07</td>\n",
       "      <td>12</td>\n",
       "    </tr>\n",
       "    <tr>\n",
       "      <th>128</th>\n",
       "      <td>2020-07-07</td>\n",
       "      <td>3.273204e+07</td>\n",
       "      <td>25</td>\n",
       "    </tr>\n",
       "    <tr>\n",
       "      <th>129</th>\n",
       "      <td>2020-09-03</td>\n",
       "      <td>3.452722e+07</td>\n",
       "      <td>43</td>\n",
       "    </tr>\n",
       "    <tr>\n",
       "      <th>130</th>\n",
       "      <td>2020-11-03</td>\n",
       "      <td>3.421610e+07</td>\n",
       "      <td>28</td>\n",
       "    </tr>\n",
       "    <tr>\n",
       "      <th>131</th>\n",
       "      <td>2021-01-05</td>\n",
       "      <td>3.738339e+07</td>\n",
       "      <td>17</td>\n",
       "    </tr>\n",
       "  </tbody>\n",
       "</table>\n",
       "<p>132 rows × 3 columns</p>\n",
       "</div>"
      ],
      "text/plain": [
       "          date     curr_fund num_stocks\n",
       "0   1999-02-24  9.664783e+05         17\n",
       "1   1999-04-26  1.054894e+06         24\n",
       "2   1999-06-24  1.064928e+06         36\n",
       "3   1999-08-24  1.215766e+06         19\n",
       "4   1999-10-22  1.076110e+06         35\n",
       "..         ...           ...        ...\n",
       "127 2020-05-06  3.030464e+07         12\n",
       "128 2020-07-07  3.273204e+07         25\n",
       "129 2020-09-03  3.452722e+07         43\n",
       "130 2020-11-03  3.421610e+07         28\n",
       "131 2021-01-05  3.738339e+07         17\n",
       "\n",
       "[132 rows x 3 columns]"
      ]
     },
     "execution_count": 22,
     "metadata": {},
     "output_type": "execute_result"
    }
   ],
   "source": [
    "macd_2_fund_df"
   ]
  },
  {
   "cell_type": "code",
   "execution_count": 23,
   "id": "paperback-tamil",
   "metadata": {},
   "outputs": [],
   "source": [
    "# biannual adjustment strategy\n",
    "funds = 1000000\n",
    "days = 126\n",
    "cycle = 44"
   ]
  },
  {
   "cell_type": "code",
   "execution_count": 24,
   "id": "legitimate-service",
   "metadata": {},
   "outputs": [],
   "source": [
    "macd_6_fund_df, macd_6_final_funds = sim_alt(funds, df_list, start, days, cycle)"
   ]
  },
  {
   "cell_type": "code",
   "execution_count": 44,
   "id": "dirty-advance",
   "metadata": {},
   "outputs": [],
   "source": [
    "#annual adjustment strategy\n",
    "funds = 1000000\n",
    "days = 252\n",
    "cycle = 22"
   ]
  },
  {
   "cell_type": "code",
   "execution_count": 45,
   "id": "simplified-alignment",
   "metadata": {},
   "outputs": [],
   "source": [
    "macd_12_fund_df, macd_12_final_funds = sim_alt(funds, df_list, start, days, cycle)"
   ]
  },
  {
   "cell_type": "code",
   "execution_count": 46,
   "id": "associate-reality",
   "metadata": {},
   "outputs": [
    {
     "data": {
      "text/html": [
       "<div>\n",
       "<style scoped>\n",
       "    .dataframe tbody tr th:only-of-type {\n",
       "        vertical-align: middle;\n",
       "    }\n",
       "\n",
       "    .dataframe tbody tr th {\n",
       "        vertical-align: top;\n",
       "    }\n",
       "\n",
       "    .dataframe thead th {\n",
       "        text-align: right;\n",
       "    }\n",
       "</style>\n",
       "<table border=\"1\" class=\"dataframe\">\n",
       "  <thead>\n",
       "    <tr style=\"text-align: right;\">\n",
       "      <th></th>\n",
       "      <th>date</th>\n",
       "      <th>curr_fund</th>\n",
       "      <th>num_stocks</th>\n",
       "    </tr>\n",
       "  </thead>\n",
       "  <tbody>\n",
       "    <tr>\n",
       "      <th>0</th>\n",
       "      <td>1999-12-22</td>\n",
       "      <td>1.188203e+06</td>\n",
       "      <td>17</td>\n",
       "    </tr>\n",
       "    <tr>\n",
       "      <th>1</th>\n",
       "      <td>2000-12-20</td>\n",
       "      <td>2.491522e+06</td>\n",
       "      <td>17</td>\n",
       "    </tr>\n",
       "    <tr>\n",
       "      <th>2</th>\n",
       "      <td>2001-12-27</td>\n",
       "      <td>2.776938e+06</td>\n",
       "      <td>27</td>\n",
       "    </tr>\n",
       "    <tr>\n",
       "      <th>3</th>\n",
       "      <td>2002-12-27</td>\n",
       "      <td>2.185685e+06</td>\n",
       "      <td>29</td>\n",
       "    </tr>\n",
       "    <tr>\n",
       "      <th>4</th>\n",
       "      <td>2003-12-29</td>\n",
       "      <td>3.016503e+06</td>\n",
       "      <td>22</td>\n",
       "    </tr>\n",
       "    <tr>\n",
       "      <th>5</th>\n",
       "      <td>2004-12-29</td>\n",
       "      <td>3.621729e+06</td>\n",
       "      <td>29</td>\n",
       "    </tr>\n",
       "    <tr>\n",
       "      <th>6</th>\n",
       "      <td>2005-12-28</td>\n",
       "      <td>4.181550e+06</td>\n",
       "      <td>22</td>\n",
       "    </tr>\n",
       "    <tr>\n",
       "      <th>7</th>\n",
       "      <td>2006-12-28</td>\n",
       "      <td>5.011447e+06</td>\n",
       "      <td>24</td>\n",
       "    </tr>\n",
       "    <tr>\n",
       "      <th>8</th>\n",
       "      <td>2007-12-31</td>\n",
       "      <td>5.724173e+06</td>\n",
       "      <td>24</td>\n",
       "    </tr>\n",
       "    <tr>\n",
       "      <th>9</th>\n",
       "      <td>2008-12-30</td>\n",
       "      <td>3.955921e+06</td>\n",
       "      <td>27</td>\n",
       "    </tr>\n",
       "    <tr>\n",
       "      <th>10</th>\n",
       "      <td>2009-12-30</td>\n",
       "      <td>5.649227e+06</td>\n",
       "      <td>46</td>\n",
       "    </tr>\n",
       "    <tr>\n",
       "      <th>11</th>\n",
       "      <td>2010-12-30</td>\n",
       "      <td>7.028704e+06</td>\n",
       "      <td>33</td>\n",
       "    </tr>\n",
       "    <tr>\n",
       "      <th>12</th>\n",
       "      <td>2011-12-29</td>\n",
       "      <td>7.767220e+06</td>\n",
       "      <td>30</td>\n",
       "    </tr>\n",
       "    <tr>\n",
       "      <th>13</th>\n",
       "      <td>2013-01-02</td>\n",
       "      <td>1.006236e+07</td>\n",
       "      <td>52</td>\n",
       "    </tr>\n",
       "    <tr>\n",
       "      <th>14</th>\n",
       "      <td>2014-01-02</td>\n",
       "      <td>1.587096e+07</td>\n",
       "      <td>22</td>\n",
       "    </tr>\n",
       "    <tr>\n",
       "      <th>15</th>\n",
       "      <td>2015-01-02</td>\n",
       "      <td>2.091470e+07</td>\n",
       "      <td>39</td>\n",
       "    </tr>\n",
       "    <tr>\n",
       "      <th>16</th>\n",
       "      <td>2016-01-04</td>\n",
       "      <td>2.156071e+07</td>\n",
       "      <td>15</td>\n",
       "    </tr>\n",
       "    <tr>\n",
       "      <th>17</th>\n",
       "      <td>2017-01-03</td>\n",
       "      <td>2.295746e+07</td>\n",
       "      <td>32</td>\n",
       "    </tr>\n",
       "    <tr>\n",
       "      <th>18</th>\n",
       "      <td>2018-01-03</td>\n",
       "      <td>3.010101e+07</td>\n",
       "      <td>38</td>\n",
       "    </tr>\n",
       "    <tr>\n",
       "      <th>19</th>\n",
       "      <td>2019-01-04</td>\n",
       "      <td>3.000678e+07</td>\n",
       "      <td>35</td>\n",
       "    </tr>\n",
       "    <tr>\n",
       "      <th>20</th>\n",
       "      <td>2020-01-06</td>\n",
       "      <td>3.758940e+07</td>\n",
       "      <td>34</td>\n",
       "    </tr>\n",
       "    <tr>\n",
       "      <th>21</th>\n",
       "      <td>2021-01-05</td>\n",
       "      <td>5.207676e+07</td>\n",
       "      <td>14</td>\n",
       "    </tr>\n",
       "  </tbody>\n",
       "</table>\n",
       "</div>"
      ],
      "text/plain": [
       "         date     curr_fund num_stocks\n",
       "0  1999-12-22  1.188203e+06         17\n",
       "1  2000-12-20  2.491522e+06         17\n",
       "2  2001-12-27  2.776938e+06         27\n",
       "3  2002-12-27  2.185685e+06         29\n",
       "4  2003-12-29  3.016503e+06         22\n",
       "5  2004-12-29  3.621729e+06         29\n",
       "6  2005-12-28  4.181550e+06         22\n",
       "7  2006-12-28  5.011447e+06         24\n",
       "8  2007-12-31  5.724173e+06         24\n",
       "9  2008-12-30  3.955921e+06         27\n",
       "10 2009-12-30  5.649227e+06         46\n",
       "11 2010-12-30  7.028704e+06         33\n",
       "12 2011-12-29  7.767220e+06         30\n",
       "13 2013-01-02  1.006236e+07         52\n",
       "14 2014-01-02  1.587096e+07         22\n",
       "15 2015-01-02  2.091470e+07         39\n",
       "16 2016-01-04  2.156071e+07         15\n",
       "17 2017-01-03  2.295746e+07         32\n",
       "18 2018-01-03  3.010101e+07         38\n",
       "19 2019-01-04  3.000678e+07         35\n",
       "20 2020-01-06  3.758940e+07         34\n",
       "21 2021-01-05  5.207676e+07         14"
      ]
     },
     "execution_count": 46,
     "metadata": {},
     "output_type": "execute_result"
    }
   ],
   "source": [
    "macd_12_fund_df"
   ]
  },
  {
   "cell_type": "markdown",
   "id": "useful-mechanism",
   "metadata": {},
   "source": [
    "## Period return graph"
   ]
  },
  {
   "cell_type": "code",
   "execution_count": 47,
   "id": "visible-airfare",
   "metadata": {},
   "outputs": [
    {
     "data": {
      "image/png": "[encoded data removed]",
      "text/plain": [
       "<Figure size 576x360 with 1 Axes>"
      ]
     },
     "metadata": {
      "needs_background": "light"
     },
     "output_type": "display_data"
    }
   ],
   "source": [
    "# full period plot (fund vs xlv)\n",
    "fig, ax = plt.subplots(figsize=(8,5))\n",
    "ax.set_ylabel('Portfolio value (in $10MM)')\n",
    "ax.set_xlabel('Year')\n",
    "ax.plot(fund_df['date'], fund_df['curr_fund'], label='XLV equal-weight')\n",
    "ax.plot(macd_1_fund_df['date'], macd_1_fund_df['curr_fund'], label='MACD (Monthly)')\n",
    "ax.plot(macd_2_fund_df['date'], macd_2_fund_df['curr_fund'], label='MACD (Bi-monthly)')\n",
    "ax.plot(macd_6_fund_df['date'], macd_6_fund_df['curr_fund'], label='MACD (Bi-annual)')\n",
    "ax.plot(macd_12_fund_df['date'], macd_12_fund_df['curr_fund'], label='MACD (Annual)')\n",
    "ax.legend()\n",
    "ax.set_title('Return (MACD Funds vs XLV equal-weight)[1998-2021]')\n",
    "plt.savefig('MACD_all_22_Year_Return.png')"
   ]
  },
  {
   "cell_type": "code",
   "execution_count": 35,
   "id": "exotic-administrator",
   "metadata": {},
   "outputs": [
    {
     "data": {
      "image/png": "[encoded data removed]",
      "text/plain": [
       "<Figure size 576x360 with 1 Axes>"
      ]
     },
     "metadata": {
      "needs_background": "light"
     },
     "output_type": "display_data"
    }
   ],
   "source": [
    "# log scale full period plot (fund vs xlv)\n",
    "fig, ax = plt.subplots(figsize=(8,5))\n",
    "ax.set_yscale('log')\n",
    "ax.set_ylabel('Portfolio value')\n",
    "ax.set_xlabel('Year')\n",
    "ax.plot(fund_df['date'], fund_df['curr_fund'], label='XLV equal-weight')\n",
    "ax.plot(macd_1_fund_df['date'], macd_1_fund_df['curr_fund'], label='MACD (Monthly)')\n",
    "ax.plot(macd_2_fund_df['date'], macd_2_fund_df['curr_fund'], label='MACD (Bi-monthly)')\n",
    "ax.plot(macd_6_fund_df['date'], macd_6_fund_df['curr_fund'], label='MACD (Bi-annual)')\n",
    "ax.legend()\n",
    "ax.set_title('Return (MACD Funds vs XLV equal-weight)[1998-2021]')\n",
    "plt.savefig('MACD_log_22_Year_Return.png')"
   ]
  },
  {
   "cell_type": "markdown",
   "id": "comparative-contrary",
   "metadata": {},
   "source": [
    "### Sharpe Ratios for MACD strategies"
   ]
  },
  {
   "cell_type": "code",
   "execution_count": 50,
   "id": "subject-vault",
   "metadata": {},
   "outputs": [],
   "source": [
    "macd_df_pct = macd_fund_df.iloc[::252,:].set_index('date')['curr_fund'].pct_change().to_frame().dropna()"
   ]
  },
  {
   "cell_type": "code",
   "execution_count": 51,
   "id": "proof-clinton",
   "metadata": {},
   "outputs": [],
   "source": [
    "#average risk-free rate of 1 year Tbill over 22 years\n",
    "risk_free = 0.0195\n",
    "macd_df_pct = macd_df_pct - risk_free"
   ]
  },
  {
   "cell_type": "code",
   "execution_count": 52,
   "id": "occupied-sitting",
   "metadata": {},
   "outputs": [
    {
     "data": {
      "text/plain": [
       "(curr_fund    0.062101\n",
       " dtype: float64,\n",
       " curr_fund    0.101102\n",
       " dtype: float64)"
      ]
     },
     "execution_count": 52,
     "metadata": {},
     "output_type": "execute_result"
    }
   ],
   "source": [
    "mean = macd_df_pct.mean()\n",
    "stdev = macd_df_pct.std()\n",
    "\n",
    "mean,stdev"
   ]
  },
  {
   "cell_type": "code",
   "execution_count": 53,
   "id": "unnecessary-blowing",
   "metadata": {},
   "outputs": [
    {
     "data": {
      "text/plain": [
       "curr_fund    0.614239\n",
       "dtype: float64"
      ]
     },
     "execution_count": 53,
     "metadata": {},
     "output_type": "execute_result"
    }
   ],
   "source": [
    "macd_sharpe = mean / stdev\n",
    "macd_sharpe"
   ]
  },
  {
   "cell_type": "code",
   "execution_count": 37,
   "id": "precise-campbell",
   "metadata": {},
   "outputs": [
    {
     "data": {
      "text/plain": [
       "(curr_fund    0.186826\n",
       " dtype: float64,\n",
       " curr_fund    0.267806\n",
       " dtype: float64)"
      ]
     },
     "execution_count": 37,
     "metadata": {},
     "output_type": "execute_result"
    }
   ],
   "source": [
    "#1month\n",
    "macd_1_df_pct = macd_1_fund_df.iloc[::12,:].set_index('date')['curr_fund'].pct_change().to_frame().dropna()\n",
    "\n",
    "#average risk-free rate of 1 year Tbill over 22 years\n",
    "risk_free = 0.0195\n",
    "macd_1_df_pct = macd_1_df_pct - risk_free\n",
    "\n",
    "mean = macd_1_df_pct.mean()\n",
    "stdev = macd_1_df_pct.std()\n",
    "\n",
    "mean,stdev"
   ]
  },
  {
   "cell_type": "code",
   "execution_count": 38,
   "id": "chicken-genealogy",
   "metadata": {},
   "outputs": [
    {
     "data": {
      "text/plain": [
       "curr_fund    0.697618\n",
       "dtype: float64"
      ]
     },
     "execution_count": 38,
     "metadata": {},
     "output_type": "execute_result"
    }
   ],
   "source": [
    "macd_1_sharpe = mean / stdev\n",
    "macd_1_sharpe"
   ]
  },
  {
   "cell_type": "code",
   "execution_count": 39,
   "id": "comparable-surrey",
   "metadata": {},
   "outputs": [
    {
     "data": {
      "text/plain": [
       "(curr_fund    0.193063\n",
       " dtype: float64,\n",
       " curr_fund    0.328789\n",
       " dtype: float64)"
      ]
     },
     "execution_count": 39,
     "metadata": {},
     "output_type": "execute_result"
    }
   ],
   "source": [
    "#2month\n",
    "macd_2_df_pct = macd_2_fund_df.iloc[::6,:].set_index('date')['curr_fund'].pct_change().to_frame().dropna()\n",
    "\n",
    "#average risk-free rate of 1 year Tbill over 22 years\n",
    "risk_free = 0.0195\n",
    "macd_2_df_pct = macd_2_df_pct - risk_free\n",
    "\n",
    "mean = macd_2_df_pct.mean()\n",
    "stdev = macd_2_df_pct.std()\n",
    "\n",
    "mean,stdev"
   ]
  },
  {
   "cell_type": "code",
   "execution_count": 40,
   "id": "regional-surprise",
   "metadata": {},
   "outputs": [
    {
     "data": {
      "text/plain": [
       "curr_fund    0.587194\n",
       "dtype: float64"
      ]
     },
     "execution_count": 40,
     "metadata": {},
     "output_type": "execute_result"
    }
   ],
   "source": [
    "macd_2_sharpe = mean / stdev\n",
    "macd_2_sharpe"
   ]
  },
  {
   "cell_type": "code",
   "execution_count": 41,
   "id": "entertaining-placement",
   "metadata": {},
   "outputs": [
    {
     "data": {
      "text/plain": [
       "(curr_fund    0.185203\n",
       " dtype: float64,\n",
       " curr_fund    0.201309\n",
       " dtype: float64)"
      ]
     },
     "execution_count": 41,
     "metadata": {},
     "output_type": "execute_result"
    }
   ],
   "source": [
    "#6month\n",
    "macd_6_df_pct = macd_6_fund_df.iloc[::2,:].set_index('date')['curr_fund'].pct_change().to_frame().dropna()\n",
    "\n",
    "#average risk-free rate of 1 year Tbill over 22 years\n",
    "risk_free = 0.0195\n",
    "macd_6_df_pct = macd_6_df_pct - risk_free\n",
    "\n",
    "mean = macd_6_df_pct.mean()\n",
    "stdev = macd_6_df_pct.std()\n",
    "\n",
    "mean,stdev"
   ]
  },
  {
   "cell_type": "code",
   "execution_count": 42,
   "id": "incorrect-sucking",
   "metadata": {},
   "outputs": [
    {
     "data": {
      "text/plain": [
       "curr_fund    0.919992\n",
       "dtype: float64"
      ]
     },
     "execution_count": 42,
     "metadata": {},
     "output_type": "execute_result"
    }
   ],
   "source": [
    "macd_6_sharpe = mean / stdev\n",
    "macd_6_sharpe"
   ]
  },
  {
   "cell_type": "code",
   "execution_count": 48,
   "id": "hidden-privacy",
   "metadata": {},
   "outputs": [
    {
     "data": {
      "text/plain": [
       "(curr_fund    0.207895\n",
       " dtype: float64,\n",
       " curr_fund    0.285414\n",
       " dtype: float64)"
      ]
     },
     "execution_count": 48,
     "metadata": {},
     "output_type": "execute_result"
    }
   ],
   "source": [
    "#12month\n",
    "macd_12_df_pct = macd_12_fund_df.set_index('date')['curr_fund'].pct_change().to_frame().dropna()\n",
    "\n",
    "#average risk-free rate of 1 year Tbill over 22 years\n",
    "risk_free = 0.0195\n",
    "macd_12_df_pct = macd_12_df_pct - risk_free\n",
    "\n",
    "mean = macd_12_df_pct.mean()\n",
    "stdev = macd_12_df_pct.std()\n",
    "\n",
    "mean,stdev"
   ]
  },
  {
   "cell_type": "code",
   "execution_count": 49,
   "id": "searching-sunset",
   "metadata": {},
   "outputs": [
    {
     "data": {
      "text/plain": [
       "curr_fund    0.728398\n",
       "dtype: float64"
      ]
     },
     "execution_count": 49,
     "metadata": {},
     "output_type": "execute_result"
    }
   ],
   "source": [
    "macd_12_sharpe = mean / stdev\n",
    "macd_12_sharpe"
   ]
  },
  {
   "cell_type": "markdown",
   "id": "breeding-genre",
   "metadata": {},
   "source": [
    "## Relationship between number of stocks in portfolio and return"
   ]
  },
  {
   "cell_type": "code",
   "execution_count": 43,
   "id": "recreational-warner",
   "metadata": {},
   "outputs": [
    {
     "data": {
      "image/png": "[encoded data removed]",
      "text/plain": [
       "<Figure size 576x360 with 1 Axes>"
      ]
     },
     "metadata": {
      "needs_background": "light"
     },
     "output_type": "display_data"
    }
   ],
   "source": [
    "fig, ax = plt.subplots(figsize=(8,5))\n",
    "macd_1_pct_monthly = macd_1_fund_df.set_index('date')['curr_fund'].pct_change().to_frame().dropna()\n",
    "ax.set_ylabel('Monthly return')\n",
    "ax.set_xlabel('Number of stocks in portfolio')\n",
    "ax.scatter(macd_1_fund_df.iloc[1:]['num_stocks'], macd_1_pct_monthly['curr_fund'])\n",
    "ax.set_title('Return vs Number of Stocks in Portfolio')\n",
    "plt.savefig('SMA_1_Return_vs_num_stock.png')"
   ]
  },
  {
   "cell_type": "code",
   "execution_count": 60,
   "id": "solid-twenty",
   "metadata": {},
   "outputs": [
    {
     "data": {
      "image/png": "[encoded data removed]",
      "text/plain": [
       "<Figure size 576x360 with 1 Axes>"
      ]
     },
     "metadata": {
      "needs_background": "light"
     },
     "output_type": "display_data"
    }
   ],
   "source": [
    "fig, ax = plt.subplots(figsize=(8,5))\n",
    "sma_2_pct_bimonthly = sma_2_fund_df.set_index('date')['curr_fund'].pct_change().to_frame().dropna()\n",
    "ax.set_ylabel('Bi-monthly return')\n",
    "ax.set_xlabel('Number of stocks in portfolio')\n",
    "ax.scatter(sma_2_fund_df.iloc[1:]['num_stocks'], sma_2_pct_bimonthly['curr_fund'])\n",
    "ax.set_title('Return vs Number of Stocks in Portfolio')\n",
    "plt.savefig('SMA_2_Return_vs_num_stock.png')"
   ]
  },
  {
   "cell_type": "code",
   "execution_count": 61,
   "id": "recognized-sunglasses",
   "metadata": {},
   "outputs": [
    {
     "data": {
      "image/png": "[encoded data removed]",
      "text/plain": [
       "<Figure size 576x360 with 1 Axes>"
      ]
     },
     "metadata": {
      "needs_background": "light"
     },
     "output_type": "display_data"
    }
   ],
   "source": [
    "fig, ax = plt.subplots(figsize=(8,5))\n",
    "sma_6_pct_biannual = sma_6_fund_df.set_index('date')['curr_fund'].pct_change().to_frame().dropna()\n",
    "ax.set_ylabel('Bi-annual return')\n",
    "ax.set_xlabel('Number of stocks in portfolio')\n",
    "ax.scatter(sma_6_fund_df.iloc[1:]['num_stocks'], sma_6_pct_biannual['curr_fund'])\n",
    "ax.set_title('Return vs Number of Stocks in Portfolio')\n",
    "plt.savefig('SMA_6_Return_vs_num_stock.png')"
   ]
  }
 ],
 "metadata": {
  "kernelspec": {
   "display_name": "Python 3",
   "language": "python",
   "name": "python3"
  },
  "language_info": {
   "codemirror_mode": {
    "name": "ipython",
    "version": 3
   },
   "file_extension": ".py",
   "mimetype": "text/x-python",
   "name": "python",
   "nbconvert_exporter": "python",
   "pygments_lexer": "ipython3",
   "version": "3.8.8"
  }
 },
 "nbformat": 4,
 "nbformat_minor": 5
}
